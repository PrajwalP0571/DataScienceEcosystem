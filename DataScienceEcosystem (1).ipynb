{
 "cells": [
  {
   "cell_type": "markdown",
   "id": "5d5027f0-89cb-406e-8652-4699c5929236",
   "metadata": {},
   "source": [
    "# Data Science Tools and Ecosystem"
   ]
  },
  {
   "cell_type": "markdown",
   "id": "5f9f5105-3793-4088-a9bc-2cb0117221d7",
   "metadata": {},
   "source": [
    "In this notebook, Data Science Tools and Ecosystem are summarized."
   ]
  },
  {
   "cell_type": "markdown",
   "id": "35ba184c-2389-4ba5-a875-54f6615ab4a1",
   "metadata": {},
   "source": [
    "Objectives:\n",
    "* List popular Languages for Data Science\n",
    "* List popular Libraries for Data Science\n",
    "* List popular Well known Data Science Tools.\n",
    "* How to provide comments in the cell."
   ]
  },
  {
   "cell_type": "markdown",
   "id": "29844053-1eae-4624-817d-1c93a06c9cd9",
   "metadata": {},
   "source": [
    "Some of the popular languages that Data Scientists use are:\n",
    "1. Python\n",
    "2. R\n",
    "3. SQL\n",
    "4. Java\n",
    "5. Shift"
   ]
  },
  {
   "cell_type": "markdown",
   "id": "658e9862-ba64-46fc-944c-2263bae06f12",
   "metadata": {
    "tags": []
   },
   "source": [
    "Some of the commonly used libraries used by Data Scientists include:\n",
    "1. TensorFlow\n",
    "2. Numpy\n",
    "3. SciPy\n",
    "4. Pandas\n",
    "5. Matplotlib\n",
    "6. PyTorch\n",
    "7. Keras"
   ]
  },
  {
   "cell_type": "markdown",
   "id": "85604c81-6af6-496f-acf8-8b41b9145f21",
   "metadata": {},
   "source": [
    "|Data Science Tools|\n",
    "|---|\n",
    "|SAS|\n",
    "|Apache Hadoop|\n",
    "|TensorFlow|"
   ]
  },
  {
   "cell_type": "markdown",
   "id": "1e89de4b-aafb-4e07-8172-50ada996b169",
   "metadata": {},
   "source": [
    "### Below are a few examples of evaluating arithmetic expressions in Python"
   ]
  },
  {
   "cell_type": "code",
   "execution_count": 2,
   "id": "83060e75-05f4-4d50-916a-a52c4bc20f5d",
   "metadata": {
    "tags": []
   },
   "outputs": [
    {
     "data": {
      "text/plain": [
       "17"
      ]
     },
     "execution_count": 2,
     "metadata": {},
     "output_type": "execute_result"
    }
   ],
   "source": [
    "#This a simple arithmetic expression to mutiply then add integers\n",
    "(3*4)+5"
   ]
  },
  {
   "cell_type": "code",
   "execution_count": 3,
   "id": "3ffc3511-903e-4ff5-9dc9-914e011be7c6",
   "metadata": {
    "tags": []
   },
   "outputs": [
    {
     "data": {
      "text/plain": [
       "3.3333333333333335"
      ]
     },
     "execution_count": 3,
     "metadata": {},
     "output_type": "execute_result"
    }
   ],
   "source": [
    "#This will convert 200 minutes to hours by diving by 60\n",
    "200/60"
   ]
  },
  {
   "cell_type": "markdown",
   "id": "b600a327-487c-4609-b739-7df5b2911f5f",
   "metadata": {},
   "source": [
    "## Author\n",
    "Prajwal Pawar"
   ]
  },
  {
   "cell_type": "code",
   "execution_count": null,
   "id": "361a85e9-346c-4f23-ab28-9212f1ea04ad",
   "metadata": {},
   "outputs": [],
   "source": []
  }
 ],
 "metadata": {
  "kernelspec": {
   "display_name": "Python",
   "language": "python",
   "name": "conda-env-python-py"
  },
  "language_info": {
   "codemirror_mode": {
    "name": "ipython",
    "version": 3
   },
   "file_extension": ".py",
   "mimetype": "text/x-python",
   "name": "python",
   "nbconvert_exporter": "python",
   "pygments_lexer": "ipython3",
   "version": "3.7.12"
  }
 },
 "nbformat": 4,
 "nbformat_minor": 5
}
